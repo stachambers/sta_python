{
 "cells": [
  {
   "cell_type": "code",
   "execution_count": null,
   "metadata": {},
   "outputs": [],
   "source": [
    "import numpy as np"
   ]
  },
  {
   "cell_type": "markdown",
   "metadata": {},
   "source": [
    "### Vectors and Lists\n",
    "To create a vector simply surround a python list ([1,2,3]) with the np.array function:"
   ]
  },
  {
   "cell_type": "code",
   "execution_count": null,
   "metadata": {},
   "outputs": [],
   "source": [
    "x_vector = np.array([1,2,3])\n",
    "print(x_vector)"
   ]
  },
  {
   "cell_type": "markdown",
   "metadata": {},
   "source": [
    "We could have done this by defining a python list and converting it to an array:"
   ]
  },
  {
   "cell_type": "code",
   "execution_count": null,
   "metadata": {},
   "outputs": [],
   "source": [
    "c_list = [1,2]\n",
    "print(\"The list:\",c_list)\n",
    "print(\"Has length:\", len(c_list))\n",
    "\n",
    "c_vector = np.array(c_list)\n",
    "print(\"The vector:\", c_vector)\n",
    "print(\"Has shape:\",c_vector.shape)"
   ]
  },
  {
   "cell_type": "code",
   "execution_count": null,
   "metadata": {},
   "outputs": [],
   "source": [
    "z = [5,6]\n",
    "print(\"This is a list, not an array:\",z)\n",
    "print(type(z))"
   ]
  },
  {
   "cell_type": "code",
   "execution_count": null,
   "metadata": {},
   "outputs": [],
   "source": [
    "zarray = np.array(z)\n",
    "print(\"This is an array, not a list\",zarray)\n",
    "print(type(zarray))"
   ]
  },
  {
   "cell_type": "markdown",
   "metadata": {},
   "source": [
    "### Matrices\n",
    "\n",
    "Let's create a matrix."
   ]
  },
  {
   "cell_type": "code",
   "execution_count": null,
   "metadata": {},
   "outputs": [],
   "source": [
    "A = np.array([[5,1],[6,2]])\n",
    "print(A)"
   ]
  },
  {
   "cell_type": "markdown",
   "metadata": {},
   "source": [
    "The matrix.shape command will tell you the dimensions in rows by columns."
   ]
  },
  {
   "cell_type": "code",
   "execution_count": null,
   "metadata": {},
   "outputs": [],
   "source": [
    "A.shape"
   ]
  },
  {
   "cell_type": "markdown",
   "metadata": {},
   "source": [
    "#### Adding or subtracting a scalar value to a matrix\n",
    "To learn the basics, consider a small matrix of dimension $2 \\times 2$, where $2 \\times 2$ denotes the number of rows $\\times$ the number of columns.  Let $A$=$\\bigl( \\begin{smallmatrix} a_{11} &amp; a_{12} \\\\ a_{21} &amp; a_{22} \\end{smallmatrix} \\bigr)$.  Consider adding a scalar value (e.g. 3) to the A.\n",
    "$$\n",
    "\\begin{equation}\n",
    "    A+3=\\begin{bmatrix}\n",
    "      a_{11} \\hspace{.2cm} a_{12} \\\\\n",
    "      a_{21} \\hspace{.2cm} a_{22}   \n",
    "    \\end{bmatrix}+3\n",
    "    =\\begin{bmatrix}\n",
    "      a_{11}+3 \\hspace{.2cm} a_{12}+3 \\\\\n",
    "      a_{21}+3 \\hspace{.2cm} a_{22}+3   \n",
    "    \\end{bmatrix}\n",
    "\\end{equation}\n",
    "$$\n",
    "The same basic principle holds true for A-3:\n",
    "$$\n",
    "\\begin{equation}\n",
    "    A-3=\\begin{bmatrix}\n",
    "      a_{11} \\hspace{.2cm} a_{12} \\\\\n",
    "      a_{21} \\hspace{.2cm} a_{22}   \n",
    "    \\end{bmatrix}-3\n",
    "    =\\begin{bmatrix}\n",
    "      a_{11}-3 \\hspace{.2cm} a_{12}-3 \\\\\n",
    "      a_{21}-3 \\hspace{.2cm} a_{22}-3   \n",
    "    \\end{bmatrix}\n",
    "\\end{equation}\n",
    "$$\n",
    "Notice that we add (or subtract) the scalar value to each element in the matrix A.  A can be of any dimension.</p>\n",
    "<p>This is trivial to implement, now that we have defined our matrix A:</p>\n"
   ]
  },
  {
   "cell_type": "code",
   "execution_count": null,
   "metadata": {},
   "outputs": [],
   "source": [
    "result = A + 3\n",
    "print(result)"
   ]
  },
  {
   "cell_type": "markdown",
   "metadata": {},
   "source": [
    "Again, just notice that our matrix\n",
    "$$\n",
    "\\begin{equation}\n",
    "    A=\\begin{bmatrix}\n",
    "      5 \\hspace{.2cm} 1 \\\\\n",
    "      6 \\hspace{.2cm} 2   \n",
    "    \\end{bmatrix}\n",
    "\\end{equation}\n",
    "$$\n",
    "got 3 added to each element.\n",
    "### Adding or subtracting two matrices\n",
    "<p>If we add 2 matrices, their elements are added. Let's look at another matrix\n",
    "$$\n",
    "\\begin{equation}\n",
    "    B=\\begin{bmatrix}\n",
    "      2 \\hspace{.2cm} 4 \\\\\n",
    "      3 \\hspace{.2cm} 3   \n",
    "    \\end{bmatrix}\n",
    "\\end{equation}\n",
    "$$\n",
    "Then\n",
    "$$\n",
    "\\begin{equation}\n",
    "    A+B=\\begin{bmatrix}\n",
    "      7 \\hspace{.2cm} 5 \\\\\n",
    "      9 \\hspace{.2cm} 5\n",
    "    \\end{bmatrix}\n",
    "\\end{equation}\n",
    "$$\n",
    "Write the code below to create the matrix B, and to add A and B to get a new matrix called C and print the result."
   ]
  },
  {
   "cell_type": "code",
   "execution_count": null,
   "metadata": {},
   "outputs": [],
   "source": []
  },
  {
   "cell_type": "markdown",
   "metadata": {},
   "source": [
    "### Matrix Multiplication\n",
    "#### Scalar Multiplication\n",
    "Multiplying by a scalar just multiplies every element of a matrix by that scalar.\n",
    "$$\n",
    "\\begin{equation}\n",
    "    3 \\times A =\\begin{bmatrix}\n",
    "          3a_{11} & 3a_{12} \\\\\n",
    "          3a_{21} & 3a_{22}     \n",
    "    \\end{bmatrix}\n",
    "\\end{equation}\n",
    "$$\n",
    "\n",
    "Write the code below to create the matrix\n",
    "$$\n",
    "\\begin{equation}\n",
    "    A+B=\\begin{bmatrix}\n",
    "      25 \\hspace{.4cm} 5 \\\\\n",
    "      30 \\hspace{.2cm} 10\n",
    "    \\end{bmatrix}\n",
    "\\end{equation}\n",
    "$$\n",
    "using scalar multiplication and the matrix A."
   ]
  },
  {
   "cell_type": "code",
   "execution_count": null,
   "metadata": {},
   "outputs": [],
   "source": []
  },
  {
   "cell_type": "markdown",
   "metadata": {},
   "source": [
    "#### Multiplying two matrices\n",
    "\n",
    "We talked about how matrix multiplication works in class. Let's play around with how multiplication works in Python.\n",
    "\n",
    "First let's write the command\n",
    "`A*B`\n",
    "and figure out what it does."
   ]
  },
  {
   "cell_type": "code",
   "execution_count": null,
   "metadata": {},
   "outputs": [],
   "source": [
    "print(A)\n",
    "print(B)\n",
    "A*B"
   ]
  },
  {
   "cell_type": "markdown",
   "metadata": {},
   "source": [
    "It looks like it just multiplies the elements in their respective spots. If you want to multiply them in the mathematical sense, we have to use the `np.dot()` command."
   ]
  },
  {
   "cell_type": "code",
   "execution_count": null,
   "metadata": {},
   "outputs": [],
   "source": [
    "np.dot(A,B)"
   ]
  },
  {
   "cell_type": "markdown",
   "metadata": {},
   "source": [
    "Also, we can transpose a matrix by using the `.T` command."
   ]
  },
  {
   "cell_type": "code",
   "execution_count": null,
   "metadata": {},
   "outputs": [],
   "source": [
    "A.T"
   ]
  },
  {
   "cell_type": "markdown",
   "metadata": {},
   "source": [
    "Hopefully this primer will help you understand what Python is doing with matrix multiplication. Next week we'll get back to the notebook with our first machine learning model. I'll revamp it to have more information."
   ]
  },
  {
   "cell_type": "markdown",
   "metadata": {},
   "source": [
    "Portions of this notebook were taken from https://rlhick.people.wm.edu/stories/linear-algebra-python-basics.html."
   ]
  },
  {
   "cell_type": "code",
   "execution_count": null,
   "metadata": {},
   "outputs": [],
   "source": []
  }
 ],
 "metadata": {
  "kernelspec": {
   "display_name": "Python 3",
   "language": "python",
   "name": "python3"
  },
  "language_info": {
   "codemirror_mode": {
    "name": "ipython",
    "version": 3
   },
   "file_extension": ".py",
   "mimetype": "text/x-python",
   "name": "python",
   "nbconvert_exporter": "python",
   "pygments_lexer": "ipython3",
   "version": "3.6.8"
  }
 },
 "nbformat": 4,
 "nbformat_minor": 2
}
